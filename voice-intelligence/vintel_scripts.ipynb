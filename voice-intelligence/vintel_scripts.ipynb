{
 "cells": [
  {
   "cell_type": "markdown",
   "metadata": {},
   "source": [
    "# Twilio Voice Intelligence API"
   ]
  },
  {
   "cell_type": "markdown",
   "metadata": {},
   "source": [
    "# How to Use This Notebook\n",
    "\n",
    "This notebook demonstrates how to use the Twilio Voice Intelligence API to analyze audio files. Follow the steps below to use this notebook:\n",
    "\n",
    "1. **Install Dependencies**: Ensure you have the required packages installed. This is done in the first cell.\n",
    "2. **Set Up Twilio Credentials**: Update the `.env` file with your Twilio credentials.\n",
    "3. **Configure Service SID and Media URL**: Provide your Twilio Voice Intelligence Service SID and the URL of the audio file you want to analyze.\n",
    "4. **Create Transcript**: Use the Twilio Voice Intelligence API to create a transcript of the audio file.\n",
    "\n",
    "Run each cell sequentially to see the results."
   ]
  },
  {
   "cell_type": "code",
   "execution_count": null,
   "metadata": {},
   "outputs": [],
   "source": [
    "%pip install twilio\n",
    "%pip install os"
   ]
  },
  {
   "cell_type": "code",
   "execution_count": 4,
   "metadata": {},
   "outputs": [],
   "source": [
    "# Download the helper library from https://www.twilio.com/docs/python/install\n",
    "import os\n",
    "from twilio.rest import Client\n",
    "\n",
    "# Find your Account SID and Auth Token at twilio.com/console\n",
    "# and set the environment variables. See http://twil.io/secure\n",
    "account_sid = os.environ[\"TWILIO_ACCOUNT_SID\"]\n",
    "auth_token = os.environ[\"TWILIO_AUTH_TOKEN\"]\n",
    "client = Client(account_sid, auth_token)"
   ]
  },
  {
   "cell_type": "code",
   "execution_count": 8,
   "metadata": {},
   "outputs": [],
   "source": [
    "# Please make sure you've updated the .env file with your own Twilio credentials\n",
    "\n",
    "service_sid = \"GAeddebfd528173e7d8f9dcf8576775e9e\" # Please inform your Twilio Voice Intelligence Service SID\n",
    "media_url = \"https://vintel-demos-2237.twil.io/compra.wav\" # Please inform the URL of the audio file you want to analyze\n",
    "source_sid = \"RE5476bcca970e5d1dd6d38b4906c05945\" # Alternatively, please inform the Recording SID of the call you want to analyze"
   ]
  },
  {
   "cell_type": "markdown",
   "metadata": {},
   "source": [
    "### Create Transcript (from an external URL)"
   ]
  },
  {
   "cell_type": "code",
   "execution_count": 9,
   "metadata": {},
   "outputs": [
    {
     "name": "stdout",
     "output_type": "stream",
     "text": [
      "<Twilio.Intelligence.V2.TranscriptInstance sid=GT10fdf05aa6db9b92ddb1cdd473dfabf5>\n"
     ]
    }
   ],
   "source": [
    "# Create a transcript of any audio resource using Twilio Voice Intelligence\n",
    "\n",
    "transcript = client.intelligence.v2.transcripts.create(\n",
    "    service_sid, channel={\n",
    "        \"media_properties\": {\n",
    "            \"media_url\": media_url\n",
    "        }\n",
    "    }\n",
    ")\n",
    "\n",
    "print(transcript)"
   ]
  },
  {
   "cell_type": "markdown",
   "metadata": {},
   "source": [
    "### Create a Transcript (from a Twilio Recording)"
   ]
  },
  {
   "cell_type": "code",
   "execution_count": 10,
   "metadata": {},
   "outputs": [
    {
     "name": "stdout",
     "output_type": "stream",
     "text": [
      "<Twilio.Intelligence.V2.TranscriptInstance sid=GT27f7ab202029ab92a03e090552674a63>\n"
     ]
    }
   ],
   "source": [
    "# Create a transcript of a Twilio Recording using Twilio Voice Intelligence\n",
    "\n",
    "transcript = client.intelligence.v2.transcripts.create(\n",
    "    service_sid, channel={\n",
    "        \"media_properties\": {\n",
    "            \"source_sid\": source_sid\n",
    "        }\n",
    "    }\n",
    ")\n",
    "\n",
    "print(transcript)"
   ]
  }
 ],
 "metadata": {
  "kernelspec": {
   "display_name": "Python 3",
   "language": "python",
   "name": "python3"
  },
  "language_info": {
   "codemirror_mode": {
    "name": "ipython",
    "version": 3
   },
   "file_extension": ".py",
   "mimetype": "text/x-python",
   "name": "python",
   "nbconvert_exporter": "python",
   "pygments_lexer": "ipython3",
   "version": "3.11.11"
  }
 },
 "nbformat": 4,
 "nbformat_minor": 2
}
