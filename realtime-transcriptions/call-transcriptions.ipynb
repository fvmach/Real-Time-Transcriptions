{
 "cells": [
  {
   "cell_type": "markdown",
   "id": "ea89b70c",
   "metadata": {},
   "source": [
    "# Real-Time Transcriptions\n",
    "\n",
    "**Real-time Speech Recognition (Speech To Text-only)**\n",
    "\n",
    "The Real-Time Transcriptions API and TwiML <Transcription> allow customers to enable real-time transcription of Twilio Voice calls, including Voice SDK, PSTN, WhatsApp Calling or any other Voice API-managed call.\n",
    "\n",
    "Real-Time Transcriptions can be enabled for all Twilio Account recordings (as a part of a Voice Intelligence service) or for specific calls, using the TwiML <Transcription>.\n",
    "\n",
    "**Note:** For Real-Time Transcription of non-Twilio Voice calls or external recordings, please check Voice Intelligence."
   ]
  },
  {
   "cell_type": "code",
   "execution_count": null,
   "id": "0c12a62b",
   "metadata": {},
   "outputs": [],
   "source": [
    "%pip install twilio dotenv"
   ]
  },
  {
   "cell_type": "code",
   "execution_count": 9,
   "id": "8409296b",
   "metadata": {},
   "outputs": [],
   "source": [
    "# Download the helper library from https://www.twilio.com/docs/python/install\n",
    "import os\n",
    "from dotenv import load_dotenv\n",
    "from twilio.rest import Client\n",
    "\n",
    "# Set the environment variables. See http://twil.io/secure\n",
    "load_dotenv()\n",
    "\n",
    "# Find your Account SID and Auth Token at twilio.com/console\n",
    "# We recommend using API keys instead of Auth Tokens for production accounts\n",
    "account_sid = os.environ[\"TWILIO_ACCOUNT_SID\"]\n",
    "auth_token = os.environ[\"TWILIO_AUTH_TOKEN\"]\n",
    "\n",
    "# Create a Twilio client using API keys\n",
    "api_key = os.environ[\"TWILIO_API_KEY\"]\n",
    "api_secret = os.environ[\"TWILIO_API_SECRET\"]\n",
    "\n",
    "client = Client(account_sid, auth_token)\n"
   ]
  },
  {
   "cell_type": "code",
   "execution_count": null,
   "id": "52e09566",
   "metadata": {},
   "outputs": [
    {
     "name": "stdout",
     "output_type": "stream",
     "text": [
      "CA6e5c4de4863a9549ed4fff2cf3d2e103\n"
     ]
    }
   ],
   "source": [
    "# Test Call Setup \n",
    "\n",
    "# Call details\n",
    "to_number = \"+5511968432422\"\n",
    "from_number = \"+551150397615\"\n",
    "workflow_sid = \"WW6fb4ce424f201b8be36f4215cde9c963\"  # your TaskRouter workflow SID \n",
    "\n",
    "# Start a Twilio Call\n",
    "call = client.calls.create(\n",
    "    to=to_number,\n",
    "    from_=from_number,\n",
    "    url=\"http://demo.twilio.com/docs/voice.xml\", # URL to TwiML instructions, can be replaced with your own URL or TwiML Bin URL (or replaced by a TwiML object and the `twiml` attribute).\n",
    ")\n",
    "\n",
    "print(call.sid)"
   ]
  },
  {
   "cell_type": "code",
   "execution_count": 27,
   "id": "e927e383",
   "metadata": {},
   "outputs": [
    {
     "name": "stdout",
     "output_type": "stream",
     "text": [
      "GT6e05e804c176df3fa028cf577de454bf\n"
     ]
    }
   ],
   "source": [
    "# Start a real-time transcription for an active call using the Transcriptions REST API: https://www.twilio.com/docs/voice/api/realtime-transcription-resource#start-a-real-time-transcription\n",
    "\n",
    "transcription = client.calls(\n",
    "    \"CA6e5c4de4863a9549ed4fff2cf3d2e103\"\n",
    ").transcriptions.create(\n",
    "    status_callback_url=\"https://webhook.site/084c2cbb-4a4a-47e8-8eb4-d6aaa537c49b\",\n",
    "    status_callback_method=\"POST\",\n",
    ")\n",
    "\n",
    "print(transcription.sid)"
   ]
  },
  {
   "cell_type": "code",
   "execution_count": null,
   "id": "68bcbd0b",
   "metadata": {},
   "outputs": [
    {
     "name": "stdout",
     "output_type": "stream",
     "text": [
      "Call SID: CAbb1592a1707459c59dd628f8a91b33c8\n"
     ]
    }
   ],
   "source": [
    "# This code demonstrates how to create an outbound call with Twilio and start a real-time transcription using the Twilio Python library.\n",
    "\n",
    "# Call details\n",
    "to_number = \"+5511968432422\"\n",
    "from_number = \"+551150397615\"\n",
    "workflow_sid = \"WW6fb4ce424f201b8be36f4215cde9c963\"  # your TaskRouter workflow SID\n",
    "\n",
    "# Transcription parameters\n",
    "status_callback_url = \"https://webhook.site/b0e55c9b-09e5-4f34-ad33-54084c526d3f\"\n",
    "name = \"Transcription\"\n",
    "language_code = \"es-US\"\n",
    "track = \"both_tracks\"\n",
    "inbound_label = \"cliente\"\n",
    "outbound_label = \"agente\"\n",
    "transcription_engine = \"google\"\n",
    "intelligence_service = \"GA50177b2159d5d11cf61fac29b94e4202\"\n",
    "\n",
    "# Build TwiML as a string\n",
    "twiml = f\"\"\"\n",
    "<Response>\n",
    "  <Start>\n",
    "    <Transcription \n",
    "      statusCallbackUrl=\"{status_callback_url}\"\n",
    "      name=\"{name}\"\n",
    "      languageCode=\"{language_code}\"\n",
    "      track=\"{track}\"\n",
    "      inboundTrackLabel=\"{inbound_label}\"\n",
    "      outboundTrackLabel=\"{outbound_label}\"\n",
    "      transcriptionEngine=\"{transcription_engine}\"\n",
    "      intelligenceService=\"{intelligence_service}\" />\n",
    "  </Start>\n",
    "  <Enqueue workflowSid=\"{workflow_sid}\" />\n",
    "</Response>\n",
    "\"\"\".strip()\n",
    "\n",
    "# Create the outbound call with inline TwiML\n",
    "call = client.calls.create(\n",
    "    twiml=twiml,\n",
    "    to=to_number,\n",
    "    from_=from_number\n",
    ")\n",
    "\n",
    "print(f\"Call SID: {call.sid}\")\n",
    "\n"
   ]
  }
 ],
 "metadata": {
  "kernelspec": {
   "display_name": "Python 3",
   "language": "python",
   "name": "python3"
  },
  "language_info": {
   "codemirror_mode": {
    "name": "ipython",
    "version": 3
   },
   "file_extension": ".py",
   "mimetype": "text/x-python",
   "name": "python",
   "nbconvert_exporter": "python",
   "pygments_lexer": "ipython3",
   "version": "3.11.11"
  }
 },
 "nbformat": 4,
 "nbformat_minor": 5
}
