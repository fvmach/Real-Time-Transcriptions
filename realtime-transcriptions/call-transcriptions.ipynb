{
 "cells": [
  {
   "cell_type": "markdown",
   "id": "ea89b70c",
   "metadata": {},
   "source": [
    "# Real-Time Transcriptions\n",
    "\n",
    "**Real-time Speech Recognition (Speech To Text-only)**\n",
    "\n",
    "The Real-Time Transcriptions API and TwiML <Transcription> allow customers to enable real-time transcription of Twilio Voice calls, including Voice SDK, PSTN, WhatsApp Calling or any other Voice API-managed call.\n",
    "\n",
    "Real-Time Transcriptions can be enabled for all Twilio Account recordings (as a part of a Voice Intelligence service) or for specific calls, using the TwiML <Transcription>.\n",
    "\n",
    "**Note:** For Real-Time Transcription of non-Twilio Voice calls or external recordings, please check Voice Intelligence."
   ]
  },
  {
   "cell_type": "markdown",
   "id": "61315ba7",
   "metadata": {},
   "source": [
    "### Setup up your environment"
   ]
  },
  {
   "cell_type": "code",
   "execution_count": null,
   "id": "0c12a62b",
   "metadata": {},
   "outputs": [],
   "source": [
    "%pip install twilio dotenv"
   ]
  },
  {
   "cell_type": "code",
   "execution_count": 9,
   "id": "8409296b",
   "metadata": {},
   "outputs": [],
   "source": [
    "# Download the helper library from https://www.twilio.com/docs/python/install\n",
    "import os\n",
    "from dotenv import load_dotenv\n",
    "from twilio.rest import Client\n",
    "\n",
    "# Set the environment variables. See http://twil.io/secure\n",
    "load_dotenv()\n",
    "\n",
    "# Find your Account SID and Auth Token at twilio.com/console\n",
    "# We recommend using API keys instead of Auth Tokens for production accounts\n",
    "account_sid = os.environ[\"TWILIO_ACCOUNT_SID\"]\n",
    "auth_token = os.environ[\"TWILIO_AUTH_TOKEN\"]\n",
    "\n",
    "# Create a Twilio client using API keys\n",
    "api_key = os.environ[\"TWILIO_API_KEY\"]\n",
    "api_secret = os.environ[\"TWILIO_API_SECRET\"]\n",
    "\n",
    "client = Client(account_sid, auth_token)\n"
   ]
  },
  {
   "cell_type": "markdown",
   "id": "f0d71930",
   "metadata": {},
   "source": [
    "### Start Real-Time Transcription on Active Call"
   ]
  },
  {
   "cell_type": "markdown",
   "id": "cadb3ea1",
   "metadata": {},
   "source": [
    "**Test Call Setup (transcription details in following sections)**\n"
   ]
  },
  {
   "cell_type": "code",
   "execution_count": null,
   "id": "52e09566",
   "metadata": {},
   "outputs": [],
   "source": [
    "\n",
    "# Call details\n",
    "to_number = \"+5511xxxxxxxx\"\n",
    "from_number = \"+5511xxxxxxxx\"  # your Twilio number\n",
    "\n",
    "# Start a Twilio Call\n",
    "call = client.calls.create(\n",
    "    to=to_number,\n",
    "    from_=from_number,\n",
    "    url=\"http://demo.twilio.com/docs/voice.xml\", # URL to TwiML instructions, can be replaced with your own URL or TwiML Bin URL (or replaced by a TwiML object and the `twiml` attribute).\n",
    ")\n",
    "\n",
    "print(call.sid)"
   ]
  },
  {
   "cell_type": "markdown",
   "id": "46e2759a",
   "metadata": {},
   "source": [
    "**Real-time transcription of Active Calls**"
   ]
  },
  {
   "cell_type": "code",
   "execution_count": null,
   "id": "e927e383",
   "metadata": {},
   "outputs": [],
   "source": [
    "# Start a real-time transcription for an **active call** using the Transcriptions REST API: https://www.twilio.com/docs/voice/api/realtime-transcription-resource#start-a-real-time-transcription\n",
    "\n",
    "transcription = client.calls(\n",
    "    \"CA6e5c4de4863a9549ed4fff2cf3d2e103\"\n",
    ").transcriptions.create(\n",
    "    status_callback_url=\"https://webhook.site/084c2cbb-4a4a-47e8-8eb4-d6aaa537c49b\",\n",
    "    status_callback_method=\"POST\",\n",
    ")\n",
    "\n",
    "print(transcription.sid)"
   ]
  },
  {
   "cell_type": "markdown",
   "id": "ddcb0a6e",
   "metadata": {},
   "source": [
    "### Start a New Call with Real-Time Transcription from the start\n",
    "\n",
    "Please note Twiio Voice outbound calls **_require_** the `to`, `from` and `url` or `twiml` parameters to be set.\n",
    "\n",
    "The URL must return TwiML instructions on how to handle the call.\n",
    "\n",
    "**IMPORTANT:** Just starting the transcription service without a `<Dial>`, `<Connect>`, `<Enqueue>` or similar TwiML instruction will cause the call to fail, as it needs to be connected to another party.\n",
    "\n",
    "The other party can be it a Studio Flow, an AI Assistant or any other Connect based integration, a PSTN Phone Number, a SIP endpoint or a Twilio Client."
   ]
  },
  {
   "cell_type": "code",
   "execution_count": null,
   "id": "b8bd8ab7",
   "metadata": {},
   "outputs": [],
   "source": [
    "# This code demonstrates how to create an outbound call with Twilio and start a real-time transcription using the Twilio Python library.\n",
    "\n",
    "\n",
    "# Call details\n",
    "to_number = \"+5511xxxxxxxx\"\n",
    "from_number = \"+5511xxxxxxxx\"\n",
    "workflow_sid = \"WWxxxxxxxxxxxxxxxxxxxxxxxxxxxxxxxx\"  # Your Twilio TaskRouter Workflow SID\n",
    "\n",
    "# Transcription parameters\n",
    "status_callback_url = \"https://your-webhook-url.com/callback\"  # URL to receive transcription status updates\n",
    "name = \"Transcription\"\n",
    "language_code = \"es-US\"\n",
    "track = \"both_tracks\"\n",
    "inbound_label = \"cliente\"\n",
    "outbound_label = \"agente\"\n",
    "transcription_engine = \"google\"\n",
    "intelligence_service = \"GAxxxxxxxxxxxx\" # Voice Intelligence Service SID, optional. Use only for storing Transcriptions in Twilio or using Twilio Language Operators.\n",
    "\n",
    "# Build TwiML as a string\n",
    "twiml = f\"\"\"\n",
    "<Response>\n",
    "  <Start>\n",
    "    <Transcription \n",
    "      statusCallbackUrl=\"{status_callback_url}\"\n",
    "      name=\"{name}\"\n",
    "      languageCode=\"{language_code}\"\n",
    "      track=\"{track}\"\n",
    "      inboundTrackLabel=\"{inbound_label}\"\n",
    "      outboundTrackLabel=\"{outbound_label}\"\n",
    "      transcriptionEngine=\"{transcription_engine}\"\n",
    "      intelligenceService=\"{intelligence_service}\" />\n",
    "  </Start>\n",
    "  <Enqueue workflowSid=\"{workflow_sid}\" />\n",
    "</Response>\n",
    "\"\"\".strip()\n",
    "\n",
    "# Create the outbound call with inline TwiML\n",
    "call = client.calls.create(\n",
    "    twiml=twiml,\n",
    "    to=to_number,\n",
    "    from_=from_number\n",
    ")\n",
    "\n",
    "print(f\"Call SID: {call.sid}\")\n",
    "\n"
   ]
  },
  {
   "cell_type": "markdown",
   "id": "667c5f94",
   "metadata": {},
   "source": [
    "**Sample TwiML instructions for testing**"
   ]
  },
  {
   "cell_type": "markdown",
   "id": "2da143b8",
   "metadata": {},
   "source": [
    "#### Start transcription and Dial a Twilio Voice Client\n"
   ]
  },
  {
   "cell_type": "code",
   "execution_count": null,
   "id": "8bc52c81",
   "metadata": {},
   "outputs": [],
   "source": [
    "\n",
    "identity = \"user_jane\"\n",
    "FirstName = \"Jane\"\n",
    "LastName = \"Doe\"\n",
    "\n",
    "client_twiml = f\"\"\"\n",
    "<Response>\n",
    "  <Start>\n",
    "    <Transcription \n",
    "      statusCallbackUrl=\"{status_callback_url}\"\n",
    "      name=\"{name}\"\n",
    "      languageCode=\"{language_code}\"\n",
    "      track=\"{track}\"\n",
    "      inboundTrackLabel=\"{inbound_label}\"\n",
    "      outboundTrackLabel=\"{outbound_label}\"\n",
    "      transcriptionEngine=\"{transcription_engine}\"\n",
    "      intelligenceService=\"{intelligence_service}\" />\n",
    "  </Start>\n",
    "   <Dial>\n",
    "     <Client>\n",
    "        <Identity>{identity}</Identity>\n",
    "        <Parameter name=\"FirstName\" value =\"{FirstName}\"/>\n",
    "        <Parameter name=\"LastName\" value =\"{LastName}\" />\n",
    "      </Client>\n",
    "    </Dial>\n",
    "</Response>\n",
    "\"\"\".strip()\n"
   ]
  },
  {
   "cell_type": "markdown",
   "id": "6937ec06",
   "metadata": {},
   "source": [
    "#### Start transcription and Dial a PSTN phone number\n"
   ]
  },
  {
   "cell_type": "code",
   "execution_count": null,
   "id": "c0ef3c37",
   "metadata": {},
   "outputs": [],
   "source": [
    "\n",
    "\n",
    "# Start transcription and Dial a PSTN Phone Number\n",
    "\n",
    "pstn_phone_numer = \"+5511xxxxxxxx\"\n",
    "\n",
    "pstn_twiml = f\"\"\"\n",
    "<Response>\n",
    "  <Start>\n",
    "    <Transcription \n",
    "      statusCallbackUrl=\"{status_callback_url}\"\n",
    "      name=\"{name}\"\n",
    "      languageCode=\"{language_code}\"\n",
    "      track=\"{track}\"\n",
    "      inboundTrackLabel=\"{inbound_label}\"\n",
    "      outboundTrackLabel=\"{outbound_label}\"\n",
    "      transcriptionEngine=\"{transcription_engine}\"\n",
    "      intelligenceService=\"{intelligence_service}\" />\n",
    "  </Start>\n",
    "   <Dial>{pstn_phone_numer}</Dial>\n",
    "</Response>\n",
    "\"\"\".strip()\n",
    "\n"
   ]
  },
  {
   "cell_type": "markdown",
   "id": "ab9906f1",
   "metadata": {},
   "source": [
    "#### Start transcription and Dial a SIP endpoint\n"
   ]
  },
  {
   "cell_type": "code",
   "execution_count": null,
   "id": "e682c632",
   "metadata": {},
   "outputs": [],
   "source": [
    "\n",
    "# Start transcription and Dial a SIP endpoint\n",
    "sip_endpoint = \"sip:your-sip-uri\"\n",
    "region = \"br1\"  # Optional, specify the region for the SIP endpoint https://www.twilio.com/docs/voice/twiml/sip#sip-uri-region\n",
    "\n",
    "\n",
    "pstn_twiml = f\"\"\"\n",
    "<Response>\n",
    "  <Start>\n",
    "    <Transcription \n",
    "      statusCallbackUrl=\"{status_callback_url}\"\n",
    "      name=\"{name}\"\n",
    "      languageCode=\"{language_code}\"\n",
    "      track=\"{track}\"\n",
    "      inboundTrackLabel=\"{inbound_label}\"\n",
    "      outboundTrackLabel=\"{outbound_label}\"\n",
    "      transcriptionEngine=\"{transcription_engine}\"\n",
    "      intelligenceService=\"{intelligence_service}\" />\n",
    "  </Start>\n",
    "   <Dial>{sip_endpoint}</Dial>\n",
    "</Response>\n",
    "\"\"\".strip()"
   ]
  }
 ],
 "metadata": {
  "kernelspec": {
   "display_name": "Python 3",
   "language": "python",
   "name": "python3"
  },
  "language_info": {
   "codemirror_mode": {
    "name": "ipython",
    "version": 3
   },
   "file_extension": ".py",
   "mimetype": "text/x-python",
   "name": "python",
   "nbconvert_exporter": "python",
   "pygments_lexer": "ipython3",
   "version": "3.11.11"
  }
 },
 "nbformat": 4,
 "nbformat_minor": 5
}
