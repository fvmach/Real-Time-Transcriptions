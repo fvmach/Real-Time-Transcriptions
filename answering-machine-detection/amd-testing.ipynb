{
 "cells": [
  {
   "cell_type": "code",
   "execution_count": null,
   "id": "b5dd17a5",
   "metadata": {},
   "outputs": [],
   "source": [
    "%pip install twilio dotenv"
   ]
  },
  {
   "cell_type": "code",
   "execution_count": 3,
   "id": "e29effc1",
   "metadata": {},
   "outputs": [],
   "source": [
    "# Download the helper library from https://www.twilio.com/docs/python/install\n",
    "import os\n",
    "from dotenv import load_dotenv\n",
    "from twilio.rest import Client\n",
    "\n",
    "# Set the environment variables. See http://twil.io/secure\n",
    "load_dotenv()\n",
    "\n",
    "# Find your Account SID and Auth Token at twilio.com/console\n",
    "# We recommend using API keys instead of Auth Tokens for production accounts\n",
    "account_sid = os.environ[\"TWILIO_ACCOUNT_SID\"]\n",
    "auth_token = os.environ[\"TWILIO_AUTH_TOKEN\"]\n",
    "\n",
    "# Create a Twilio client using API keys\n",
    "api_key = os.environ[\"TWILIO_API_KEY\"]\n",
    "api_secret = os.environ[\"TWILIO_API_SECRET\"]\n",
    "\n",
    "client = Client(account_sid, auth_token)"
   ]
  },
  {
   "cell_type": "code",
   "execution_count": null,
   "id": "a5f47be3",
   "metadata": {},
   "outputs": [],
   "source": [
    "# Simple call with AMD enabled\n",
    "\n",
    "\n",
    "call = client.calls.create(\n",
    "    machine_detection=\"Enable\",\n",
    "    url=\"https://handler.twilio.com/twiml/EHxxxxxxxxxxxxx\", # The URL should return TwiML that will be executed when the call is answered\n",
    "    to=\"+5511xxxxxxxxx\",\n",
    "    from_=\"+5511xxxxxxxx\",\n",
    "    status_callback='https://your-webhook-url.com/callback',\n",
    "    status_callback_method='POST',\n",
    ")\n",
    "\n",
    "print(call.sid)"
   ]
  },
  {
   "cell_type": "code",
   "execution_count": null,
   "id": "539056eb",
   "metadata": {},
   "outputs": [],
   "source": [
    "#For optimal results, AMD also allows tuning parameters\n",
    "\n",
    "call = client.calls.create(\n",
    "    machine_detection=\"Enable\",\n",
    "    url=\"https://handler.twilio.com/twiml/EHxxxxxxxxxxxxx\", # The URL should return TwiML that will be executed when the call is answered\n",
    "    to=\"+5511xxxxxxxxx\",\n",
    "    from_=\"+5511xxxxxxxxxx\",\n",
    "    status_callback='https://your-webhook-url.com/callback',\n",
    "    status_callback_method='POST',\n",
    "    machine_detection_timeout=30, # The number of seconds that Twilio should attempt to perform answering machine detection before timing out.\n",
    "    machine_detection_speech_threshold=2400, # In milliseconds, the length of the speech activity. Durations lower than this value may be interpreted as a human, longer as a machine.\n",
    "    machine_detection_speech_end_threshold=1200, # In milliseconds, silence after speech activity at which point the speech activity is considered complete.\n",
    "    machine_detection_silence_timeout=5000, # The number of milliseconds of initial silence after which an unknown AnsweredBy result will be returned.\n",
    ")\n",
    "\n",
    "print(call.sid)"
   ]
  }
 ],
 "metadata": {
  "kernelspec": {
   "display_name": "Python 3",
   "language": "python",
   "name": "python3"
  },
  "language_info": {
   "codemirror_mode": {
    "name": "ipython",
    "version": 3
   },
   "file_extension": ".py",
   "mimetype": "text/x-python",
   "name": "python",
   "nbconvert_exporter": "python",
   "pygments_lexer": "ipython3",
   "version": "3.11.11"
  }
 },
 "nbformat": 4,
 "nbformat_minor": 5
}
